{
 "cells": [
  {
   "cell_type": "markdown",
   "metadata": {},
   "source": [
    "# Introduction\n",
    "\n",
    "Insomnia is one of the sleeping disorder. Although we may think that insomnia can occur only on adults, in fact it also can occur on adolescents. This data science project is delving into the insomnia during the adolescent period by using a dataset which contains the records of more than 90 adolecents. Individually, all participants have been following and participating in 19 questionnaires related to the sleep pattern, sleep habit, psychological issues, etc."
   ]
  },
  {
   "cell_type": "code",
   "execution_count": 2,
   "metadata": {},
   "outputs": [],
   "source": [
    "import pandas as pd\n",
    "import numpy as np\n",
    "import matplotlib.pyplot as plt\n",
    "import seaborn as sns\n",
    "\n",
    "df = pd.read_csv(r\"../datasets/insomnia_data.csv\")\n"
   ]
  },
  {
   "cell_type": "markdown",
   "metadata": {},
   "source": [
    "# Stage 1: Data Cleaning\n",
    "\n",
    "Based on the observations toward the dataset, it requires some data cleaning steps before the dataset is processed on the next stages. On the following code, we can see the dimension and the first five rows of the dataset."
   ]
  },
  {
   "cell_type": "code",
   "execution_count": 3,
   "metadata": {},
   "outputs": [
    {
     "data": {
      "text/plain": [
       "(95, 174)"
      ]
     },
     "execution_count": 3,
     "metadata": {},
     "output_type": "execute_result"
    }
   ],
   "source": [
    "df.shape"
   ]
  },
  {
   "cell_type": "code",
   "execution_count": 4,
   "metadata": {},
   "outputs": [
    {
     "data": {
      "text/html": [
       "<div>\n",
       "<style scoped>\n",
       "    .dataframe tbody tr th:only-of-type {\n",
       "        vertical-align: middle;\n",
       "    }\n",
       "\n",
       "    .dataframe tbody tr th {\n",
       "        vertical-align: top;\n",
       "    }\n",
       "\n",
       "    .dataframe thead th {\n",
       "        text-align: right;\n",
       "    }\n",
       "</style>\n",
       "<table border=\"1\" class=\"dataframe\">\n",
       "  <thead>\n",
       "    <tr style=\"text-align: right;\">\n",
       "      <th></th>\n",
       "      <th>ID</th>\n",
       "      <th>Group</th>\n",
       "      <th>SubGroup</th>\n",
       "      <th>Remote</th>\n",
       "      <th>Sex</th>\n",
       "      <th>Age</th>\n",
       "      <th>American_Indian</th>\n",
       "      <th>Asian</th>\n",
       "      <th>Native_Hawaiian</th>\n",
       "      <th>Black</th>\n",
       "      <th>...</th>\n",
       "      <th>Zcope_acccept</th>\n",
       "      <th>Zcope_suppression</th>\n",
       "      <th>Zcope_planning</th>\n",
       "      <th>Zders_nonaccpetance</th>\n",
       "      <th>Zders_goals</th>\n",
       "      <th>Zders_impulse</th>\n",
       "      <th>Zders_awareness</th>\n",
       "      <th>Zders_strategies</th>\n",
       "      <th>Zders_clarity</th>\n",
       "      <th>ZDERS_total</th>\n",
       "    </tr>\n",
       "  </thead>\n",
       "  <tbody>\n",
       "    <tr>\n",
       "      <th>0</th>\n",
       "      <td>sub_001</td>\n",
       "      <td>0</td>\n",
       "      <td>0</td>\n",
       "      <td>0</td>\n",
       "      <td>0</td>\n",
       "      <td>19.3</td>\n",
       "      <td>0</td>\n",
       "      <td>0</td>\n",
       "      <td>0</td>\n",
       "      <td>0</td>\n",
       "      <td>...</td>\n",
       "      <td>-0.701562</td>\n",
       "      <td>2.215354</td>\n",
       "      <td>0.740137</td>\n",
       "      <td>-1.122805</td>\n",
       "      <td>1.905727</td>\n",
       "      <td>-0.114565</td>\n",
       "      <td>1.083087</td>\n",
       "      <td>-0.656051</td>\n",
       "      <td>0.538016</td>\n",
       "      <td>0.575806</td>\n",
       "    </tr>\n",
       "    <tr>\n",
       "      <th>1</th>\n",
       "      <td>sub_002</td>\n",
       "      <td>0</td>\n",
       "      <td>0</td>\n",
       "      <td>0</td>\n",
       "      <td>0</td>\n",
       "      <td>19.3</td>\n",
       "      <td>0</td>\n",
       "      <td>0</td>\n",
       "      <td>0</td>\n",
       "      <td>0</td>\n",
       "      <td>...</td>\n",
       "      <td>1.545013</td>\n",
       "      <td>0.327833</td>\n",
       "      <td>1.078180</td>\n",
       "      <td>-0.552396</td>\n",
       "      <td>-0.302127</td>\n",
       "      <td>-0.114565</td>\n",
       "      <td>1.083087</td>\n",
       "      <td>-0.656051</td>\n",
       "      <td>0.538016</td>\n",
       "      <td>0.153943</td>\n",
       "    </tr>\n",
       "    <tr>\n",
       "      <th>2</th>\n",
       "      <td>sub_003</td>\n",
       "      <td>0</td>\n",
       "      <td>0</td>\n",
       "      <td>0</td>\n",
       "      <td>1</td>\n",
       "      <td>18.8</td>\n",
       "      <td>0</td>\n",
       "      <td>0</td>\n",
       "      <td>0</td>\n",
       "      <td>0</td>\n",
       "      <td>...</td>\n",
       "      <td>-0.327133</td>\n",
       "      <td>1.743474</td>\n",
       "      <td>-0.612036</td>\n",
       "      <td>-0.267191</td>\n",
       "      <td>-1.406055</td>\n",
       "      <td>-0.425527</td>\n",
       "      <td>0.271626</td>\n",
       "      <td>-0.656051</td>\n",
       "      <td>-0.260601</td>\n",
       "      <td>-0.619473</td>\n",
       "    </tr>\n",
       "    <tr>\n",
       "      <th>3</th>\n",
       "      <td>sub_004</td>\n",
       "      <td>0</td>\n",
       "      <td>0</td>\n",
       "      <td>0</td>\n",
       "      <td>0</td>\n",
       "      <td>18.8</td>\n",
       "      <td>0</td>\n",
       "      <td>0</td>\n",
       "      <td>0</td>\n",
       "      <td>0</td>\n",
       "      <td>...</td>\n",
       "      <td>-1.824849</td>\n",
       "      <td>-1.559689</td>\n",
       "      <td>-0.612036</td>\n",
       "      <td>-0.552396</td>\n",
       "      <td>0.249836</td>\n",
       "      <td>-0.114565</td>\n",
       "      <td>0.596210</td>\n",
       "      <td>-0.116442</td>\n",
       "      <td>0.538016</td>\n",
       "      <td>0.224254</td>\n",
       "    </tr>\n",
       "    <tr>\n",
       "      <th>4</th>\n",
       "      <td>sub_005</td>\n",
       "      <td>1</td>\n",
       "      <td>2</td>\n",
       "      <td>0</td>\n",
       "      <td>1</td>\n",
       "      <td>19.6</td>\n",
       "      <td>0</td>\n",
       "      <td>0</td>\n",
       "      <td>0</td>\n",
       "      <td>0</td>\n",
       "      <td>...</td>\n",
       "      <td>-2.199279</td>\n",
       "      <td>-0.615928</td>\n",
       "      <td>-0.950080</td>\n",
       "      <td>0.588422</td>\n",
       "      <td>1.353763</td>\n",
       "      <td>0.196397</td>\n",
       "      <td>0.109334</td>\n",
       "      <td>0.153363</td>\n",
       "      <td>1.336632</td>\n",
       "      <td>0.857049</td>\n",
       "    </tr>\n",
       "  </tbody>\n",
       "</table>\n",
       "<p>5 rows × 174 columns</p>\n",
       "</div>"
      ],
      "text/plain": [
       "        ID  Group  SubGroup  Remote  Sex   Age  American_Indian  Asian  \\\n",
       "0  sub_001      0         0       0    0  19.3                0      0   \n",
       "1  sub_002      0         0       0    0  19.3                0      0   \n",
       "2  sub_003      0         0       0    1  18.8                0      0   \n",
       "3  sub_004      0         0       0    0  18.8                0      0   \n",
       "4  sub_005      1         2       0    1  19.6                0      0   \n",
       "\n",
       "   Native_Hawaiian  Black  ...  Zcope_acccept  Zcope_suppression  \\\n",
       "0                0      0  ...      -0.701562           2.215354   \n",
       "1                0      0  ...       1.545013           0.327833   \n",
       "2                0      0  ...      -0.327133           1.743474   \n",
       "3                0      0  ...      -1.824849          -1.559689   \n",
       "4                0      0  ...      -2.199279          -0.615928   \n",
       "\n",
       "   Zcope_planning  Zders_nonaccpetance  Zders_goals  Zders_impulse  \\\n",
       "0        0.740137            -1.122805     1.905727      -0.114565   \n",
       "1        1.078180            -0.552396    -0.302127      -0.114565   \n",
       "2       -0.612036            -0.267191    -1.406055      -0.425527   \n",
       "3       -0.612036            -0.552396     0.249836      -0.114565   \n",
       "4       -0.950080             0.588422     1.353763       0.196397   \n",
       "\n",
       "   Zders_awareness  Zders_strategies  Zders_clarity  ZDERS_total  \n",
       "0         1.083087         -0.656051       0.538016     0.575806  \n",
       "1         1.083087         -0.656051       0.538016     0.153943  \n",
       "2         0.271626         -0.656051      -0.260601    -0.619473  \n",
       "3         0.596210         -0.116442       0.538016     0.224254  \n",
       "4         0.109334          0.153363       1.336632     0.857049  \n",
       "\n",
       "[5 rows x 174 columns]"
      ]
     },
     "execution_count": 4,
     "metadata": {},
     "output_type": "execute_result"
    }
   ],
   "source": [
    "df.head()"
   ]
  },
  {
   "cell_type": "markdown",
   "metadata": {},
   "source": [
    "## Drop non-total features from 'Multiple Columns with Total' questionnaire type"
   ]
  },
  {
   "cell_type": "code",
   "execution_count": 8,
   "metadata": {},
   "outputs": [
    {
     "name": "stdout",
     "output_type": "stream",
     "text": [
      "Amount of non-total features: 43\n",
      "['ASHS_physiological' 'ASHS_cognitive' 'ASHS_emotional'\n",
      " 'ASHS_SleepEnvirnmont' 'ASHS_DaytimeSleep' 'ASHS_substances'\n",
      " 'ASHS_bedtimeRoutine' 'ASHS_sleepStability' 'ASHS_BedroomSharing'\n",
      " 'GCTI_anxiety' 'GCTI_reflection' 'GCTI_worries' 'GCTI_thoughts'\n",
      " 'GCTI_negativeAffect' 'PSRS_PrR' 'PSRS_RWO' 'PSRS_RSC' 'PSRS_FRa'\n",
      " 'PSRS_RSE' 'TCQIR_Aggressive_supression' 'TCQIR_cognitive_distraction'\n",
      " 'TCQIR_reappraisal' 'TCQIR_behavtioral_distraction'\n",
      " 'TCQIR_social_avoidance' 'TCQIR_worry' 'asq_home' 'asq_school'\n",
      " 'asq_attendance' 'asq_romantic' 'asq_peer' 'asq_teacher' 'asq_future'\n",
      " 'asq_leisure' 'asq_finance' 'asq_responsibility' 'casq_sleepy'\n",
      " 'casq_alert' 'ders_nonaccpetance' 'ders_goals' 'ders_impulse'\n",
      " 'ders_awareness' 'ders_strategies' 'ders_clarity']\n"
     ]
    }
   ],
   "source": [
    "# Create seven lists which contain the non-total features name that will be dropped\n",
    "non_total_ASHS = ['ASHS_physiological', 'ASHS_cognitive', 'ASHS_emotional', 'ASHS_SleepEnvirnmont', 'ASHS_DaytimeSleep', 'ASHS_substances', 'ASHS_bedtimeRoutine', 'ASHS_sleepStability', 'ASHS_BedroomSharing']\n",
    "non_total_GCTI = ['GCTI_anxiety', 'GCTI_reflection', 'GCTI_worries', 'GCTI_thoughts', 'GCTI_negativeAffect']\n",
    "non_total_PSRS = ['PSRS_PrR', 'PSRS_RWO', 'PSRS_RSC', 'PSRS_FRa', 'PSRS_RSE']\n",
    "non_total_TCQIR = ['TCQIR_Aggressive_supression', 'TCQIR_cognitive_distraction', 'TCQIR_reappraisal', 'TCQIR_behavtioral_distraction', 'TCQIR_social_avoidance', 'TCQIR_worry']\n",
    "non_total_ASQ = ['asq_home', 'asq_school', 'asq_attendance', 'asq_romantic', 'asq_peer', 'asq_teacher', 'asq_future', 'asq_leisure', 'asq_finance', 'asq_responsibility']\n",
    "non_total_CASQ = ['casq_sleepy', 'casq_alert']\n",
    "non_total_DERS = ['ders_nonaccpetance', 'ders_goals', 'ders_impulse', 'ders_awareness', 'ders_strategies', 'ders_clarity']\n",
    "\n",
    "# Concatenate seven lists onto a new list\n",
    "non_total_cols = np.concatenate((non_total_ASHS, \n",
    "                                 non_total_GCTI, \n",
    "                                 non_total_PSRS,\n",
    "                                 non_total_TCQIR,\n",
    "                                 non_total_ASQ,\n",
    "                                 non_total_CASQ,\n",
    "                                 non_total_DERS\n",
    "                                 ))\n",
    "print('Amount of non-total features: {}'.format(len(non_total_cols)))\n",
    "print(non_total_cols)"
   ]
  },
  {
   "cell_type": "code",
   "execution_count": 9,
   "metadata": {},
   "outputs": [
    {
     "name": "stdout",
     "output_type": "stream",
     "text": [
      "Current dataframe dimension after non-total features dropping: (95, 131)\n"
     ]
    }
   ],
   "source": [
    "# Drop non-total features from the dataframe\n",
    "df.drop(non_total_cols, inplace=True, axis=1)\n",
    "\n",
    "# Current dataframe dimension after non-total features dropping\n",
    "print('Current dataframe dimension after non-total features dropping: {}'.format(df.shape))"
   ]
  },
  {
   "cell_type": "markdown",
   "metadata": {},
   "source": [
    "## Drop all features start with 'Z'"
   ]
  },
  {
   "cell_type": "code",
   "execution_count": 15,
   "metadata": {},
   "outputs": [
    {
     "name": "stdout",
     "output_type": "stream",
     "text": [
      "Amount of features name start with 'Z': 78\n",
      "['ZISI_total', 'ZPSQI_total', 'ZBDI_total', 'ZASHS_total', 'ZASHS_physiological', 'ZASHS_cognitive', 'ZASHS_emotional', 'ZASHS_SleepEnvirnmont', 'ZASHS_DaytimeSleep', 'ZASHS_substances', 'ZASHS_bedtimeRoutine', 'ZASHS_sleepStability', 'ZASHS_BedroomSharing', 'ZDBAS_total', 'ZFIRST_total', 'ZGCTI_total', 'ZGCTI_anxiety', 'ZGCTI_reflection', 'ZGCTI_worries', 'ZGCTI_thoughts', 'ZGCTI_negativeAffect', 'ZSTAI_Y_total', 'ZNEO_neuroticism', 'ZNEO_extraversion', 'ZNEO_openness', 'ZNEO_agreeableness', 'ZNEO_Conscientiousness', 'ZMEQr_total', 'ZPSRS_PrR', 'ZPSRS_RWO', 'ZPSRS_RSC', 'ZPSRS_FRa', 'ZPSRS_RSE', 'ZPSRS_total', 'ZPSS_total', 'ZTCQI_R_Total', 'ZTCQIR_Aggressive_supression', 'ZTCQIR_cognitive_distraction', 'ZTCQIR_reappraisal', 'ZTCQIR_behavtioral_distraction', 'ZTCQIR_social_avoidance', 'ZTCQIR_worry', 'ZACE_tot', 'Zasq_home', 'Zasq_school', 'Zasq_attendance', 'Zasq_romantic', 'Zasq_peer', 'Zasq_teacher', 'Zasq_future', 'Zasq_leisure', 'Zasq_finance', 'Zasq_responsibility', 'Zcasq_total', 'Zcasq_sleepy', 'Zcasq_alert', 'Zcope_growth', 'Zcope_disengage_mental', 'Zcope_emotions', 'Zcope_socialsupp_instr', 'Zcope_active', 'Zcope_denial', 'Zcope_religion', 'Zcope_humor', 'Zcope_disengage_emo', 'Zcope_restraint', 'Zcope_socialsupp_emo', 'Zcope_disengage_su', 'Zcope_acccept', 'Zcope_suppression', 'Zcope_planning', 'Zders_nonaccpetance', 'Zders_goals', 'Zders_impulse', 'Zders_awareness', 'Zders_strategies', 'Zders_clarity', 'ZDERS_total']\n"
     ]
    }
   ],
   "source": [
    "# Get all features name\n",
    "cols_name = df.columns\n",
    "# Initiate 'Z' letter\n",
    "first_letter = 'Z'\n",
    "# Get features name start with 'Z'\n",
    "z_cols = [name for name in cols_name if name[0] == first_letter]\n",
    "print(\"Amount of features name start with 'Z': {}\".format(len(z_cols)))\n",
    "print(z_cols)"
   ]
  },
  {
   "cell_type": "code",
   "execution_count": null,
   "metadata": {},
   "outputs": [],
   "source": []
  }
 ],
 "metadata": {
  "kernelspec": {
   "display_name": "Python 3",
   "language": "python",
   "name": "python3"
  },
  "language_info": {
   "codemirror_mode": {
    "name": "ipython",
    "version": 3
   },
   "file_extension": ".py",
   "mimetype": "text/x-python",
   "name": "python",
   "nbconvert_exporter": "python",
   "pygments_lexer": "ipython3",
   "version": "3.11.1"
  }
 },
 "nbformat": 4,
 "nbformat_minor": 2
}
